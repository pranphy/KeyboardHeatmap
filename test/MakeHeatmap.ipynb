{
 "cells": [
  {
   "cell_type": "code",
   "execution_count": 1,
   "metadata": {},
   "outputs": [],
   "source": [
    "import numpy as np\n",
    "from keyhmap import Heatmap"
   ]
  },
  {
   "cell_type": "code",
   "execution_count": 2,
   "metadata": {},
   "outputs": [],
   "source": [
    "HM = Heatmap('qwerty')"
   ]
  },
  {
   "cell_type": "code",
   "execution_count": 3,
   "metadata": {},
   "outputs": [
    {
     "name": "stdout",
     "output_type": "stream",
     "text": [
      "{'\\n': 62, ' ': 1062, '\"': 4, \"'\": 2, '(': 2, ')': 2, '*': 3, ',': 67, '-': 9, '.': 57, '/': 5, '0': 9, '1': 16, '2': 17, '3': 8, '4': 5, '5': 7, '6': 9, '7': 11, '8': 9, '9': 7, ':': 1, '?': 1, '@': 1, 'A': 9, 'B': 11, 'C': 12, 'D': 9, 'E': 4, 'F': 2, 'G': 3, 'H': 1, 'I': 13, 'J': 1, 'K': 2, 'L': 4, 'M': 1, 'N': 20, 'O': 1, 'P': 13, 'R': 16, 'S': 14, 'T': 7, 'W': 3, 'Z': 2, 'a': 436, 'b': 54, 'c': 214, 'd': 183, 'e': 666, 'f': 131, 'g': 140, 'h': 229, 'i': 410, 'j': 3, 'k': 32, 'l': 190, 'm': 138, 'n': 430, 'o': 430, 'p': 111, 'q': 3, 'r': 384, 's': 357, 't': 510, 'u': 146, 'v': 77, 'w': 64, 'x': 19, 'y': 87, '—': 2, '’': 8, '“': 8, '”': 8}\n"
     ]
    }
   ],
   "source": [
    "chars = 'abcdefghijklmnopqrstuvwxAAAyz\\!@#$%^&*()_+:;[]]{}'\n",
    "chars = 'तिमी र म घुम्न जाऔँ न'\n",
    "chars ='ककक शशश बबब हहह धध मम अअ'\n",
    "chars = open('test_english.txt','r').read()\n",
    "unique,count = np.unique([char for char in chars],return_counts=True)\n",
    "char_dict = dict(zip(unique,count))\n",
    "print(char_dict)"
   ]
  },
  {
   "cell_type": "code",
   "execution_count": 4,
   "metadata": {},
   "outputs": [
    {
     "name": "stdout",
     "output_type": "stream",
     "text": [
      "Warning:: `—` ignored\n",
      "Warning:: `’` ignored\n",
      "Warning:: `“` ignored\n",
      "Warning:: `”` ignored\n"
     ]
    }
   ],
   "source": [
    "HM.make_heatmap(char_dict,layout='qwerty',ignore_other=True)"
   ]
  },
  {
   "cell_type": "code",
   "execution_count": 5,
   "metadata": {},
   "outputs": [
    {
     "data": {
      "image/png": "[encoded data removed]",
      "text/plain": [
       "<Figure size 432x288 with 1 Axes>"
      ]
     },
     "metadata": {},
     "output_type": "display_data"
    }
   ],
   "source": [
    "HM.save('./keyhmap',cmap='PuBuGn')"
   ]
  }
 ],
 "metadata": {
  "kernelspec": {
   "display_name": "Python 3.7",
   "language": "python",
   "name": "python3"
  },
  "language_info": {
   "codemirror_mode": {
    "name": "ipython",
    "version": 3
   },
   "file_extension": ".py",
   "mimetype": "text/x-python",
   "name": "python",
   "nbconvert_exporter": "python",
   "pygments_lexer": "ipython3",
   "version": "3.7.4"
  }
 },
 "nbformat": 4,
 "nbformat_minor": 4
}
